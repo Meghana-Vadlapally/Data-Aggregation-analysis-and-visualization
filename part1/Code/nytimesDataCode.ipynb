{
 "cells": [
  {
   "cell_type": "markdown",
   "metadata": {},
   "source": [
    "# Lab2\n",
    "# Vineel Kurma, vineelku, 50291799¶\n",
    "# Meghana Vadlapally, mvadlapa, 50298635"
   ]
  },
  {
   "cell_type": "markdown",
   "metadata": {},
   "source": [
    "### Referred beautiful soup code from: https://www.youtube.com/watch?v=v5DDW5dyfyc&t=542s\n"
   ]
  },
  {
   "cell_type": "code",
   "execution_count": 15,
   "metadata": {},
   "outputs": [
    {
     "name": "stdout",
     "output_type": "stream",
     "text": [
      "Requirement already satisfied: nytimesarticle in c:\\users\\17162\\anaconda3\\lib\\site-packages (0.1.0)\n",
      "Requirement already satisfied: requests>=2.1.0 in c:\\users\\17162\\anaconda3\\lib\\site-packages (from nytimesarticle) (2.21.0)\n",
      "Requirement already satisfied: chardet<3.1.0,>=3.0.2 in c:\\users\\17162\\anaconda3\\lib\\site-packages (from requests>=2.1.0->nytimesarticle) (3.0.4)\n",
      "Requirement already satisfied: urllib3<1.25,>=1.21.1 in c:\\users\\17162\\anaconda3\\lib\\site-packages (from requests>=2.1.0->nytimesarticle) (1.24.1)\n",
      "Requirement already satisfied: idna<2.9,>=2.5 in c:\\users\\17162\\anaconda3\\lib\\site-packages (from requests>=2.1.0->nytimesarticle) (2.8)\n",
      "Requirement already satisfied: certifi>=2017.4.17 in c:\\users\\17162\\anaconda3\\lib\\site-packages (from requests>=2.1.0->nytimesarticle) (2018.11.29)\n",
      "Requirement already satisfied: requests in c:\\users\\17162\\anaconda3\\lib\\site-packages (2.21.0)\n",
      "Requirement already satisfied: urllib3<1.25,>=1.21.1 in c:\\users\\17162\\anaconda3\\lib\\site-packages (from requests) (1.24.1)\n",
      "Requirement already satisfied: chardet<3.1.0,>=3.0.2 in c:\\users\\17162\\anaconda3\\lib\\site-packages (from requests) (3.0.4)\n",
      "Requirement already satisfied: certifi>=2017.4.17 in c:\\users\\17162\\anaconda3\\lib\\site-packages (from requests) (2018.11.29)\n",
      "Requirement already satisfied: idna<2.9,>=2.5 in c:\\users\\17162\\anaconda3\\lib\\site-packages (from requests) (2.8)\n"
     ]
    }
   ],
   "source": [
    "import sys\n",
    "!{sys.executable} -m pip install nytimesarticle\n",
    "!{sys.executable} -m pip install requests"
   ]
  },
  {
   "cell_type": "code",
   "execution_count": 2,
   "metadata": {},
   "outputs": [
    {
     "data": {
      "text/plain": [
       "'C:\\\\Users\\\\17162\\\\Desktop\\\\Sem 1\\\\Academics\\\\DIC\\\\Lab2'"
      ]
     },
     "execution_count": 2,
     "metadata": {},
     "output_type": "execute_result"
    }
   ],
   "source": [
    "import os\n",
    "\n",
    "os.getcwd( )\n",
    "\n",
    "os.chdir('C:/Users/17162/Desktop/Sem 1/Academics/DIC/Lab2') \n",
    "\n",
    "os.getcwd( )"
   ]
  },
  {
   "cell_type": "code",
   "execution_count": 3,
   "metadata": {},
   "outputs": [],
   "source": [
    "from nytimesarticle import articleAPI\n",
    "api = articleAPI('Jc2xBEBpAp090Z2hSFzjIb7iw0IpryDK')"
   ]
  },
  {
   "cell_type": "code",
   "execution_count": 5,
   "metadata": {},
   "outputs": [],
   "source": [
    "#subTopics = ['NBA', 'NCAA', 'golf','pga tour', 'cricket', 'ipl' , 'tennis','ATP','WTA','ufc']\n",
    "subTopics = ['NBA','NCAA','Basket ball','golf','pga tour','soccer','IPL','cricket']"
   ]
  },
  {
   "cell_type": "code",
   "execution_count": 6,
   "metadata": {},
   "outputs": [
    {
     "name": "stdout",
     "output_type": "stream",
     "text": [
      "NBA\n",
      "NCAA\n",
      "Basket ball\n",
      "golf\n",
      "pga tour\n",
      "soccer\n",
      "IPL\n",
      "cricket\n"
     ]
    }
   ],
   "source": [
    "articles = []\n",
    "for subtopic in subTopics:\n",
    "    print(subtopic)\n",
    "    for i in range(1,200):\n",
    "        articles.append(api.search( q = subtopic,page = i, begin_date = 20190101))"
   ]
  },
  {
   "cell_type": "code",
   "execution_count": 8,
   "metadata": {},
   "outputs": [],
   "source": [
    "with open(\"url.txt\", \"w\") as myfile:\n",
    "    for x in articles:\n",
    "        if 'response' in x.keys():\n",
    "            for j in x['response']['docs']:\n",
    "                myfile.write('\\n'+j['web_url'])\n"
   ]
  },
  {
   "cell_type": "code",
   "execution_count": 9,
   "metadata": {},
   "outputs": [],
   "source": [
    "import json\n",
    "from bs4 import BeautifulSoup \n",
    "import requests "
   ]
  },
  {
   "cell_type": "code",
   "execution_count": 10,
   "metadata": {},
   "outputs": [],
   "source": [
    "records=[]"
   ]
  },
  {
   "cell_type": "code",
   "execution_count": 11,
   "metadata": {},
   "outputs": [],
   "source": [
    "with open('url.txt') as file:\n",
    "    for line in file:\n",
    "        content = \"\"\n",
    "        r = requests.get(line)\n",
    "        soup = BeautifulSoup(r.text, 'html.parser')\n",
    "        results = soup.findAll('p',attrs={'class':'css-1ygdjhk evys1bk0'})\n",
    "        \n",
    "        if len(results)<15:\n",
    "            ulimit=len(results)\n",
    "        else:            \n",
    "            ulimit=15\n",
    "        for i in range(0,ulimit):            \n",
    "            content+=results[i].text\n",
    "        if 'NBA' in content or 'NCAA' in content or 'Basket ball' in content:\n",
    "            \n",
    "            topic='BasketBall'\n",
    "                           \n",
    "        elif 'golf' in content or 'pga tour' in content:\n",
    "            \n",
    "            topic='Golf'\n",
    "            \n",
    "        elif 'soccer' in content:\n",
    "            topic='FootBall'\n",
    "          \n",
    "        elif 'IPL' in content or 'cricket' in content:\n",
    "            topic='Cricket'            \n",
    "            \n",
    "        elif 'Formula 1' in content or 'Formula 2' in content or 'NASCAR' in content:            \n",
    "            topic='Racing'\n",
    "           \n",
    "        elif 'USTA' in content or 'Tennis' in content or 'ATP' in content or 'WTA' in content:\n",
    "            topic='Tennis'\n",
    "           \n",
    "        records.append((topic,content))\n",
    "                    \n",
    "       \n",
    "                                                                                                                                                                                                                                                                                                                                                                                                                                                                                                                                                                                                                                                                                                                                                                                                                                                                                                                                                                                                                                                                                                                                                                                                                                                                                                                                                                                                                                                                                                                                                                                                                                                                                                                                                                                                                                                                                                                                                                                                                                                                                                                                                                                                                                                                                                                                                                                                                                                                                                                                                                                                                                                                                                                                                                                                                                                                                                                                                                                                                                                                                                                                                                                                                                                                                                                                                                                                                                                                                                                                                                                                                                                                                                                                                                                                                                                                                                                                                                                                                                                                                                                                                                                                                                                                                                                                                                                                                                                                                                                                                                                                                                                                                                                                                                                                                                                                                                                                                                                                                                                                                                                                                                                                                                                                                                                                                                                                                                                                                                                                                                                                                                                                                                                                                                                                                                                                                                                                                                                                                                                                                                                                                                                                                                                                                                                                                                                                                                                                                                                                                                                                                                                                                                                                                                                                                                                                                                                                                                                                                                                                                                                                                                                                                                                                                                                                                                                                                                                                                                                                                                                                                                                                                                                                                                                                                                                                                                                                                                                                                                                                                                                                                                                                                                                                                                                                                                                                                                                                 \n",
    "        \n"
   ]
  },
  {
   "cell_type": "code",
   "execution_count": 12,
   "metadata": {},
   "outputs": [],
   "source": [
    "with open('newYorkTimesData.txt', 'w', encoding='utf-8') as myfile:\n",
    "                for i in range(len(records)):\n",
    "                    myfile.write('\\n'+records[i][1]) "
   ]
  },
  {
   "cell_type": "code",
   "execution_count": 13,
   "metadata": {},
   "outputs": [],
   "source": [
    "import pandas as pd\n",
    "df = pd.DataFrame(records, columns=['topic','content'])\n"
   ]
  },
  {
   "cell_type": "code",
   "execution_count": 14,
   "metadata": {},
   "outputs": [],
   "source": [
    "df.to_csv('output.csv',index = False)"
   ]
  },
  {
   "cell_type": "code",
   "execution_count": null,
   "metadata": {},
   "outputs": [],
   "source": []
  }
 ],
 "metadata": {
  "kernelspec": {
   "display_name": "Python 3",
   "language": "python",
   "name": "python3"
  },
  "language_info": {
   "codemirror_mode": {
    "name": "ipython",
    "version": 3
   },
   "file_extension": ".py",
   "mimetype": "text/x-python",
   "name": "python",
   "nbconvert_exporter": "python",
   "pygments_lexer": "ipython3",
   "version": "3.7.1"
  }
 },
 "nbformat": 4,
 "nbformat_minor": 2
}
